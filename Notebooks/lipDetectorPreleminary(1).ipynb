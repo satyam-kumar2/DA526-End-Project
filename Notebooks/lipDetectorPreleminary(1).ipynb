{
  "nbformat": 4,
  "nbformat_minor": 0,
  "metadata": {
    "colab": {
      "provenance": [],
      "machine_shape": "hm",
      "gpuType": "L4"
    },
    "kernelspec": {
      "name": "python3",
      "display_name": "Python 3"
    },
    "language_info": {
      "name": "python"
    },
    "accelerator": "GPU"
  },
  "cells": [
    {
      "cell_type": "code",
      "execution_count": null,
      "metadata": {
        "colab": {
          "base_uri": "https://localhost:8080/"
        },
        "id": "fP21Mqxs01WR",
        "outputId": "37026e8e-1362-41fb-c956-d08406ab10dd"
      },
      "outputs": [
        {
          "output_type": "stream",
          "name": "stdout",
          "text": [
            "Downloading from https://www.kaggle.com/api/v1/datasets/download/allenye66/best-lip-reading-dataset?dataset_version_number=4...\n"
          ]
        },
        {
          "output_type": "stream",
          "name": "stderr",
          "text": [
            "100%|██████████| 733M/733M [00:05<00:00, 137MB/s]"
          ]
        },
        {
          "output_type": "stream",
          "name": "stdout",
          "text": [
            "Extracting files...\n"
          ]
        },
        {
          "output_type": "stream",
          "name": "stderr",
          "text": [
            "\n"
          ]
        },
        {
          "output_type": "stream",
          "name": "stdout",
          "text": [
            "Path to dataset files: /root/.cache/kagglehub/datasets/allenye66/best-lip-reading-dataset/versions/4\n"
          ]
        }
      ],
      "source": [
        "import kagglehub\n",
        "\n",
        "# Download latest version\n",
        "path = kagglehub.dataset_download(\"allenye66/best-lip-reading-dataset\")\n",
        "\n",
        "print(\"Path to dataset files:\", path)"
      ]
    },
    {
      "cell_type": "code",
      "source": [
        "import shutil\n",
        "src = '/root/.cache/kagglehub/datasets/allenye66/best-lip-reading-dataset/versions/4'\n",
        "dst = 'content/data/'\n",
        "shutil.move(src, dst)"
      ],
      "metadata": {
        "colab": {
          "base_uri": "https://localhost:8080/",
          "height": 35
        },
        "id": "KrN9rDZP8kXe",
        "outputId": "fdd3ab5b-0390-4cfc-a1fa-ec4659e2b0be"
      },
      "execution_count": null,
      "outputs": [
        {
          "output_type": "execute_result",
          "data": {
            "text/plain": [
              "'content/data/'"
            ],
            "application/vnd.google.colaboratory.intrinsic+json": {
              "type": "string"
            }
          },
          "metadata": {},
          "execution_count": 2
        }
      ]
    },
    {
      "cell_type": "code",
      "source": [
        "import os\n",
        "os.listdir()\n"
      ],
      "metadata": {
        "colab": {
          "base_uri": "https://localhost:8080/"
        },
        "id": "hJaSc5HP8tr9",
        "outputId": "31cb98c4-b068-4ffd-ab9a-67bb74b7c6e8"
      },
      "execution_count": null,
      "outputs": [
        {
          "output_type": "execute_result",
          "data": {
            "text/plain": [
              "['.config', 'content', 'sample_data']"
            ]
          },
          "metadata": {},
          "execution_count": 4
        }
      ]
    },
    {
      "cell_type": "code",
      "source": [
        "path = 'content/data/outputs'\n",
        "os.chdir(path)"
      ],
      "metadata": {
        "id": "4x_KihXkAdAz"
      },
      "execution_count": null,
      "outputs": []
    },
    {
      "cell_type": "code",
      "source": [
        "file_labels = os.listdir()"
      ],
      "metadata": {
        "id": "tMLf7e3kBDSt"
      },
      "execution_count": null,
      "outputs": []
    },
    {
      "cell_type": "code",
      "source": [
        "file_labels.sort()"
      ],
      "metadata": {
        "id": "or2WcGpvDWjt"
      },
      "execution_count": null,
      "outputs": []
    },
    {
      "cell_type": "code",
      "source": [
        "file_labels"
      ],
      "metadata": {
        "colab": {
          "base_uri": "https://localhost:8080/"
        },
        "collapsed": true,
        "id": "zoLrxiHfDf7E",
        "outputId": "a57971f1-8c33-4835-db7e-fcabbde62f3a"
      },
      "execution_count": null,
      "outputs": [
        {
          "output_type": "execute_result",
          "data": {
            "text/plain": [
              "['a_1',\n",
              " 'a_10',\n",
              " 'a_11',\n",
              " 'a_12',\n",
              " 'a_13',\n",
              " 'a_14',\n",
              " 'a_15',\n",
              " 'a_16',\n",
              " 'a_17',\n",
              " 'a_18',\n",
              " 'a_19',\n",
              " 'a_2',\n",
              " 'a_20',\n",
              " 'a_21',\n",
              " 'a_22',\n",
              " 'a_23',\n",
              " 'a_24',\n",
              " 'a_25',\n",
              " 'a_26',\n",
              " 'a_27',\n",
              " 'a_28',\n",
              " 'a_29',\n",
              " 'a_3',\n",
              " 'a_30',\n",
              " 'a_31',\n",
              " 'a_32',\n",
              " 'a_33',\n",
              " 'a_34',\n",
              " 'a_35',\n",
              " 'a_36',\n",
              " 'a_37',\n",
              " 'a_38',\n",
              " 'a_39',\n",
              " 'a_4',\n",
              " 'a_40',\n",
              " 'a_41',\n",
              " 'a_42',\n",
              " 'a_43',\n",
              " 'a_44',\n",
              " 'a_45',\n",
              " 'a_46',\n",
              " 'a_47',\n",
              " 'a_48',\n",
              " 'a_49',\n",
              " 'a_5',\n",
              " 'a_50',\n",
              " 'a_51',\n",
              " 'a_52',\n",
              " 'a_53',\n",
              " 'a_6',\n",
              " 'a_7',\n",
              " 'a_8',\n",
              " 'a_9',\n",
              " 'bye_1',\n",
              " 'bye_10',\n",
              " 'bye_11',\n",
              " 'bye_12',\n",
              " 'bye_13',\n",
              " 'bye_14',\n",
              " 'bye_15',\n",
              " 'bye_16',\n",
              " 'bye_17',\n",
              " 'bye_18',\n",
              " 'bye_19',\n",
              " 'bye_2',\n",
              " 'bye_20',\n",
              " 'bye_21',\n",
              " 'bye_22',\n",
              " 'bye_23',\n",
              " 'bye_24',\n",
              " 'bye_25',\n",
              " 'bye_26',\n",
              " 'bye_27',\n",
              " 'bye_28',\n",
              " 'bye_29',\n",
              " 'bye_3',\n",
              " 'bye_30',\n",
              " 'bye_31',\n",
              " 'bye_32',\n",
              " 'bye_33',\n",
              " 'bye_34',\n",
              " 'bye_35',\n",
              " 'bye_36',\n",
              " 'bye_37',\n",
              " 'bye_38',\n",
              " 'bye_39',\n",
              " 'bye_4',\n",
              " 'bye_40',\n",
              " 'bye_41',\n",
              " 'bye_42',\n",
              " 'bye_43',\n",
              " 'bye_44',\n",
              " 'bye_45',\n",
              " 'bye_46',\n",
              " 'bye_47',\n",
              " 'bye_48',\n",
              " 'bye_49',\n",
              " 'bye_5',\n",
              " 'bye_50',\n",
              " 'bye_51',\n",
              " 'bye_52',\n",
              " 'bye_6',\n",
              " 'bye_7',\n",
              " 'bye_8',\n",
              " 'bye_9',\n",
              " 'can_1',\n",
              " 'can_10',\n",
              " 'can_11',\n",
              " 'can_12',\n",
              " 'can_13',\n",
              " 'can_14',\n",
              " 'can_15',\n",
              " 'can_16',\n",
              " 'can_17',\n",
              " 'can_18',\n",
              " 'can_19',\n",
              " 'can_2',\n",
              " 'can_20',\n",
              " 'can_21',\n",
              " 'can_22',\n",
              " 'can_23',\n",
              " 'can_24',\n",
              " 'can_25',\n",
              " 'can_26',\n",
              " 'can_27',\n",
              " 'can_28',\n",
              " 'can_29',\n",
              " 'can_3',\n",
              " 'can_30',\n",
              " 'can_31',\n",
              " 'can_32',\n",
              " 'can_33',\n",
              " 'can_34',\n",
              " 'can_35',\n",
              " 'can_36',\n",
              " 'can_37',\n",
              " 'can_38',\n",
              " 'can_39',\n",
              " 'can_4',\n",
              " 'can_40',\n",
              " 'can_41',\n",
              " 'can_42',\n",
              " 'can_43',\n",
              " 'can_44',\n",
              " 'can_45',\n",
              " 'can_46',\n",
              " 'can_47',\n",
              " 'can_48',\n",
              " 'can_49',\n",
              " 'can_5',\n",
              " 'can_50',\n",
              " 'can_51',\n",
              " 'can_6',\n",
              " 'can_7',\n",
              " 'can_8',\n",
              " 'can_9',\n",
              " 'cat_1',\n",
              " 'cat_10',\n",
              " 'cat_11',\n",
              " 'cat_12',\n",
              " 'cat_13',\n",
              " 'cat_14',\n",
              " 'cat_15',\n",
              " 'cat_16',\n",
              " 'cat_17',\n",
              " 'cat_18',\n",
              " 'cat_19',\n",
              " 'cat_2',\n",
              " 'cat_20',\n",
              " 'cat_21',\n",
              " 'cat_22',\n",
              " 'cat_23',\n",
              " 'cat_24',\n",
              " 'cat_25',\n",
              " 'cat_26',\n",
              " 'cat_27',\n",
              " 'cat_28',\n",
              " 'cat_29',\n",
              " 'cat_3',\n",
              " 'cat_30',\n",
              " 'cat_31',\n",
              " 'cat_32',\n",
              " 'cat_33',\n",
              " 'cat_34',\n",
              " 'cat_35',\n",
              " 'cat_36',\n",
              " 'cat_37',\n",
              " 'cat_38',\n",
              " 'cat_39',\n",
              " 'cat_4',\n",
              " 'cat_40',\n",
              " 'cat_41',\n",
              " 'cat_42',\n",
              " 'cat_43',\n",
              " 'cat_44',\n",
              " 'cat_45',\n",
              " 'cat_46',\n",
              " 'cat_47',\n",
              " 'cat_48',\n",
              " 'cat_49',\n",
              " 'cat_5',\n",
              " 'cat_6',\n",
              " 'cat_7',\n",
              " 'cat_8',\n",
              " 'cat_9',\n",
              " 'demo_1',\n",
              " 'demo_10',\n",
              " 'demo_11',\n",
              " 'demo_12',\n",
              " 'demo_13',\n",
              " 'demo_14',\n",
              " 'demo_15',\n",
              " 'demo_16',\n",
              " 'demo_17',\n",
              " 'demo_18',\n",
              " 'demo_19',\n",
              " 'demo_2',\n",
              " 'demo_20',\n",
              " 'demo_21',\n",
              " 'demo_22',\n",
              " 'demo_23',\n",
              " 'demo_24',\n",
              " 'demo_25',\n",
              " 'demo_26',\n",
              " 'demo_27',\n",
              " 'demo_28',\n",
              " 'demo_29',\n",
              " 'demo_3',\n",
              " 'demo_30',\n",
              " 'demo_31',\n",
              " 'demo_32',\n",
              " 'demo_33',\n",
              " 'demo_34',\n",
              " 'demo_35',\n",
              " 'demo_36',\n",
              " 'demo_37',\n",
              " 'demo_38',\n",
              " 'demo_39',\n",
              " 'demo_4',\n",
              " 'demo_40',\n",
              " 'demo_41',\n",
              " 'demo_42',\n",
              " 'demo_43',\n",
              " 'demo_44',\n",
              " 'demo_45',\n",
              " 'demo_46',\n",
              " 'demo_47',\n",
              " 'demo_48',\n",
              " 'demo_49',\n",
              " 'demo_5',\n",
              " 'demo_50',\n",
              " 'demo_51',\n",
              " 'demo_52',\n",
              " 'demo_6',\n",
              " 'demo_7',\n",
              " 'demo_8',\n",
              " 'demo_9',\n",
              " 'dog_1',\n",
              " 'dog_10',\n",
              " 'dog_11',\n",
              " 'dog_12',\n",
              " 'dog_13',\n",
              " 'dog_14',\n",
              " 'dog_15',\n",
              " 'dog_16',\n",
              " 'dog_17',\n",
              " 'dog_18',\n",
              " 'dog_19',\n",
              " 'dog_2',\n",
              " 'dog_20',\n",
              " 'dog_21',\n",
              " 'dog_22',\n",
              " 'dog_23',\n",
              " 'dog_24',\n",
              " 'dog_25',\n",
              " 'dog_26',\n",
              " 'dog_27',\n",
              " 'dog_28',\n",
              " 'dog_29',\n",
              " 'dog_3',\n",
              " 'dog_30',\n",
              " 'dog_31',\n",
              " 'dog_32',\n",
              " 'dog_33',\n",
              " 'dog_34',\n",
              " 'dog_35',\n",
              " 'dog_36',\n",
              " 'dog_37',\n",
              " 'dog_38',\n",
              " 'dog_39',\n",
              " 'dog_4',\n",
              " 'dog_40',\n",
              " 'dog_41',\n",
              " 'dog_42',\n",
              " 'dog_43',\n",
              " 'dog_44',\n",
              " 'dog_45',\n",
              " 'dog_46',\n",
              " 'dog_47',\n",
              " 'dog_48',\n",
              " 'dog_49',\n",
              " 'dog_5',\n",
              " 'dog_50',\n",
              " 'dog_6',\n",
              " 'dog_7',\n",
              " 'dog_8',\n",
              " 'dog_9',\n",
              " 'hello_1',\n",
              " 'hello_10',\n",
              " 'hello_11',\n",
              " 'hello_12',\n",
              " 'hello_13',\n",
              " 'hello_14',\n",
              " 'hello_15',\n",
              " 'hello_17',\n",
              " 'hello_18',\n",
              " 'hello_19',\n",
              " 'hello_2',\n",
              " 'hello_20',\n",
              " 'hello_21',\n",
              " 'hello_22',\n",
              " 'hello_23',\n",
              " 'hello_24',\n",
              " 'hello_25',\n",
              " 'hello_26',\n",
              " 'hello_27',\n",
              " 'hello_28',\n",
              " 'hello_29',\n",
              " 'hello_3',\n",
              " 'hello_30',\n",
              " 'hello_31',\n",
              " 'hello_32',\n",
              " 'hello_33',\n",
              " 'hello_34',\n",
              " 'hello_35',\n",
              " 'hello_36',\n",
              " 'hello_37',\n",
              " 'hello_39',\n",
              " 'hello_4',\n",
              " 'hello_40',\n",
              " 'hello_41',\n",
              " 'hello_42',\n",
              " 'hello_43',\n",
              " 'hello_44',\n",
              " 'hello_45',\n",
              " 'hello_46',\n",
              " 'hello_47',\n",
              " 'hello_48',\n",
              " 'hello_49',\n",
              " 'hello_5',\n",
              " 'hello_50',\n",
              " 'hello_6',\n",
              " 'hello_7',\n",
              " 'hello_8',\n",
              " 'hello_9',\n",
              " 'here_1',\n",
              " 'here_10',\n",
              " 'here_11',\n",
              " 'here_12',\n",
              " 'here_13',\n",
              " 'here_14',\n",
              " 'here_15',\n",
              " 'here_16',\n",
              " 'here_17',\n",
              " 'here_18',\n",
              " 'here_19',\n",
              " 'here_2',\n",
              " 'here_20',\n",
              " 'here_21',\n",
              " 'here_22',\n",
              " 'here_23',\n",
              " 'here_24',\n",
              " 'here_25',\n",
              " 'here_26',\n",
              " 'here_27',\n",
              " 'here_28',\n",
              " 'here_29',\n",
              " 'here_3',\n",
              " 'here_30',\n",
              " 'here_31',\n",
              " 'here_32',\n",
              " 'here_33',\n",
              " 'here_34',\n",
              " 'here_35',\n",
              " 'here_36',\n",
              " 'here_37',\n",
              " 'here_38',\n",
              " 'here_39',\n",
              " 'here_4',\n",
              " 'here_40',\n",
              " 'here_41',\n",
              " 'here_42',\n",
              " 'here_43',\n",
              " 'here_44',\n",
              " 'here_45',\n",
              " 'here_46',\n",
              " 'here_47',\n",
              " 'here_48',\n",
              " 'here_49',\n",
              " 'here_5',\n",
              " 'here_50',\n",
              " 'here_51',\n",
              " 'here_52',\n",
              " 'here_53',\n",
              " 'here_54',\n",
              " 'here_55',\n",
              " 'here_56',\n",
              " 'here_57',\n",
              " 'here_58',\n",
              " 'here_59',\n",
              " 'here_6',\n",
              " 'here_60',\n",
              " 'here_61',\n",
              " 'here_7',\n",
              " 'here_8',\n",
              " 'here_9',\n",
              " 'is_1',\n",
              " 'is_10',\n",
              " 'is_11',\n",
              " 'is_12',\n",
              " 'is_13',\n",
              " 'is_14',\n",
              " 'is_15',\n",
              " 'is_16',\n",
              " 'is_17',\n",
              " 'is_18',\n",
              " 'is_19',\n",
              " 'is_2',\n",
              " 'is_20',\n",
              " 'is_21',\n",
              " 'is_22',\n",
              " 'is_23',\n",
              " 'is_24',\n",
              " 'is_25',\n",
              " 'is_26',\n",
              " 'is_27',\n",
              " 'is_28',\n",
              " 'is_29',\n",
              " 'is_3',\n",
              " 'is_30',\n",
              " 'is_31',\n",
              " 'is_32',\n",
              " 'is_33',\n",
              " 'is_34',\n",
              " 'is_35',\n",
              " 'is_36',\n",
              " 'is_37',\n",
              " 'is_38',\n",
              " 'is_39',\n",
              " 'is_4',\n",
              " 'is_40',\n",
              " 'is_41',\n",
              " 'is_42',\n",
              " 'is_43',\n",
              " 'is_44',\n",
              " 'is_45',\n",
              " 'is_46',\n",
              " 'is_47',\n",
              " 'is_48',\n",
              " 'is_49',\n",
              " 'is_5',\n",
              " 'is_50',\n",
              " 'is_51',\n",
              " 'is_52',\n",
              " 'is_53',\n",
              " 'is_54',\n",
              " 'is_6',\n",
              " 'is_7',\n",
              " 'is_8',\n",
              " 'is_9',\n",
              " 'lips_1',\n",
              " 'lips_10',\n",
              " 'lips_11',\n",
              " 'lips_12',\n",
              " 'lips_13',\n",
              " 'lips_14',\n",
              " 'lips_15',\n",
              " 'lips_16',\n",
              " 'lips_17',\n",
              " 'lips_18',\n",
              " 'lips_19',\n",
              " 'lips_2',\n",
              " 'lips_20',\n",
              " 'lips_21',\n",
              " 'lips_22',\n",
              " 'lips_23',\n",
              " 'lips_24',\n",
              " 'lips_25',\n",
              " 'lips_26',\n",
              " 'lips_27',\n",
              " 'lips_28',\n",
              " 'lips_29',\n",
              " 'lips_3',\n",
              " 'lips_30',\n",
              " 'lips_31',\n",
              " 'lips_32',\n",
              " 'lips_33',\n",
              " 'lips_34',\n",
              " 'lips_35',\n",
              " 'lips_36',\n",
              " 'lips_37',\n",
              " 'lips_38',\n",
              " 'lips_39',\n",
              " 'lips_4',\n",
              " 'lips_40',\n",
              " 'lips_41',\n",
              " 'lips_42',\n",
              " 'lips_43',\n",
              " 'lips_44',\n",
              " 'lips_45',\n",
              " 'lips_46',\n",
              " 'lips_47',\n",
              " 'lips_48',\n",
              " 'lips_49',\n",
              " 'lips_5',\n",
              " 'lips_50',\n",
              " 'lips_51',\n",
              " 'lips_52',\n",
              " 'lips_53',\n",
              " 'lips_6',\n",
              " 'lips_7',\n",
              " 'lips_8',\n",
              " 'lips_9',\n",
              " 'my_1',\n",
              " 'my_10',\n",
              " 'my_11',\n",
              " 'my_12',\n",
              " 'my_13',\n",
              " 'my_14',\n",
              " 'my_15',\n",
              " 'my_16',\n",
              " 'my_17',\n",
              " 'my_18',\n",
              " 'my_19',\n",
              " 'my_2',\n",
              " 'my_20',\n",
              " 'my_21',\n",
              " 'my_22',\n",
              " 'my_23',\n",
              " 'my_24',\n",
              " 'my_25',\n",
              " 'my_26',\n",
              " 'my_27',\n",
              " 'my_28',\n",
              " 'my_29',\n",
              " 'my_3',\n",
              " 'my_30',\n",
              " 'my_31',\n",
              " 'my_32',\n",
              " 'my_33',\n",
              " 'my_34',\n",
              " 'my_35',\n",
              " 'my_36',\n",
              " 'my_37',\n",
              " 'my_38',\n",
              " 'my_39',\n",
              " 'my_4',\n",
              " 'my_40',\n",
              " 'my_41',\n",
              " 'my_42',\n",
              " 'my_43',\n",
              " 'my_44',\n",
              " 'my_45',\n",
              " 'my_46',\n",
              " 'my_47',\n",
              " 'my_48',\n",
              " 'my_49',\n",
              " 'my_5',\n",
              " 'my_50',\n",
              " 'my_51',\n",
              " 'my_52',\n",
              " 'my_53',\n",
              " 'my_6',\n",
              " 'my_7',\n",
              " 'my_8',\n",
              " 'my_9',\n",
              " 'read_1',\n",
              " 'read_10',\n",
              " 'read_11',\n",
              " 'read_12',\n",
              " 'read_13',\n",
              " 'read_14',\n",
              " 'read_15',\n",
              " 'read_16',\n",
              " 'read_17',\n",
              " 'read_18',\n",
              " 'read_19',\n",
              " 'read_2',\n",
              " 'read_20',\n",
              " 'read_21',\n",
              " 'read_22',\n",
              " 'read_23',\n",
              " 'read_24',\n",
              " 'read_25',\n",
              " 'read_26',\n",
              " 'read_27',\n",
              " 'read_28',\n",
              " 'read_29',\n",
              " 'read_3',\n",
              " 'read_30',\n",
              " 'read_31',\n",
              " 'read_32',\n",
              " 'read_33',\n",
              " 'read_34',\n",
              " 'read_35',\n",
              " 'read_36',\n",
              " 'read_37',\n",
              " 'read_38',\n",
              " 'read_39',\n",
              " 'read_4',\n",
              " 'read_40',\n",
              " 'read_41',\n",
              " 'read_42',\n",
              " 'read_43',\n",
              " 'read_44',\n",
              " 'read_45',\n",
              " 'read_46',\n",
              " 'read_47',\n",
              " 'read_48',\n",
              " 'read_49',\n",
              " 'read_5',\n",
              " 'read_50',\n",
              " 'read_51',\n",
              " 'read_52',\n",
              " 'read_53',\n",
              " 'read_54',\n",
              " 'read_6',\n",
              " 'read_7',\n",
              " 'read_8',\n",
              " 'read_9',\n",
              " 'you_1',\n",
              " 'you_10',\n",
              " 'you_11',\n",
              " 'you_12',\n",
              " 'you_13',\n",
              " 'you_14',\n",
              " 'you_15',\n",
              " 'you_16',\n",
              " 'you_17',\n",
              " 'you_18',\n",
              " 'you_19',\n",
              " 'you_2',\n",
              " 'you_20',\n",
              " 'you_21',\n",
              " 'you_22',\n",
              " 'you_23',\n",
              " 'you_24',\n",
              " 'you_25',\n",
              " 'you_26',\n",
              " 'you_27',\n",
              " 'you_28',\n",
              " 'you_29',\n",
              " 'you_3',\n",
              " 'you_30',\n",
              " 'you_31',\n",
              " 'you_32',\n",
              " 'you_33',\n",
              " 'you_34',\n",
              " 'you_35',\n",
              " 'you_36',\n",
              " 'you_37',\n",
              " 'you_38',\n",
              " 'you_39',\n",
              " 'you_4',\n",
              " 'you_40',\n",
              " 'you_41',\n",
              " 'you_42',\n",
              " 'you_43',\n",
              " 'you_44',\n",
              " 'you_45',\n",
              " 'you_46',\n",
              " 'you_47',\n",
              " 'you_48',\n",
              " 'you_49',\n",
              " 'you_5',\n",
              " 'you_50',\n",
              " 'you_51',\n",
              " 'you_6',\n",
              " 'you_7',\n",
              " 'you_8',\n",
              " 'you_9']"
            ]
          },
          "metadata": {},
          "execution_count": 27
        }
      ]
    },
    {
      "cell_type": "code",
      "source": [
        "os.chdir('../')\n",
        "os.getcwd()"
      ],
      "metadata": {
        "colab": {
          "base_uri": "https://localhost:8080/",
          "height": 35
        },
        "id": "kl6xSHdjBbkl",
        "outputId": "bd1518f7-1ba1-456e-f224-1796765d29ec"
      },
      "execution_count": null,
      "outputs": [
        {
          "output_type": "execute_result",
          "data": {
            "text/plain": [
              "'/content/content/data'"
            ],
            "application/vnd.google.colaboratory.intrinsic+json": {
              "type": "string"
            }
          },
          "metadata": {},
          "execution_count": 28
        }
      ]
    },
    {
      "cell_type": "code",
      "source": [
        "# only to save file, do not run again\n",
        "f = open('file_labels.txt', 'a')\n",
        "for label in file_labels:\n",
        "    f.write(label + '\\n')\n",
        "f.close()"
      ],
      "metadata": {
        "id": "_5gtUkRBBqiH"
      },
      "execution_count": null,
      "outputs": []
    },
    {
      "cell_type": "code",
      "source": [
        "extracted_label = []\n",
        "\n",
        "for label in file_labels:\n",
        "    lbl, _ = label.split('_')\n",
        "    extracted_label.append(lbl)\n",
        "\n",
        "extracted_label"
      ],
      "metadata": {
        "id": "G3tiRkOvF1SA"
      },
      "execution_count": null,
      "outputs": []
    },
    {
      "cell_type": "code",
      "source": [
        "labels = sorted(set(extracted_label))\n",
        "class_index = {label : idx for idx, label in enumerate(labels)}\n",
        "class_index"
      ],
      "metadata": {
        "colab": {
          "base_uri": "https://localhost:8080/"
        },
        "id": "Ipf6-bksG_B7",
        "outputId": "fdaf03be-8b68-421a-8963-109d2f351533"
      },
      "execution_count": null,
      "outputs": [
        {
          "output_type": "execute_result",
          "data": {
            "text/plain": [
              "{'a': 0,\n",
              " 'bye': 1,\n",
              " 'can': 2,\n",
              " 'cat': 3,\n",
              " 'demo': 4,\n",
              " 'dog': 5,\n",
              " 'hello': 6,\n",
              " 'here': 7,\n",
              " 'is': 8,\n",
              " 'lips': 9,\n",
              " 'my': 10,\n",
              " 'read': 11,\n",
              " 'you': 12}"
            ]
          },
          "metadata": {},
          "execution_count": 34
        }
      ]
    },
    {
      "cell_type": "code",
      "source": [
        "import torch\n",
        "import torch.nn.functional as F\n",
        "class_to_index = torch.tensor([class_index[lbl] for lbl in extracted_label])\n",
        "\n",
        "class_to_index"
      ],
      "metadata": {
        "colab": {
          "base_uri": "https://localhost:8080/"
        },
        "id": "CG1j1eLfIEfC",
        "outputId": "ff97fdcf-2e3e-429b-d811-6a87f6b442ac"
      },
      "execution_count": null,
      "outputs": [
        {
          "output_type": "execute_result",
          "data": {
            "text/plain": [
              "tensor([ 0,  0,  0,  0,  0,  0,  0,  0,  0,  0,  0,  0,  0,  0,  0,  0,  0,  0,\n",
              "         0,  0,  0,  0,  0,  0,  0,  0,  0,  0,  0,  0,  0,  0,  0,  0,  0,  0,\n",
              "         0,  0,  0,  0,  0,  0,  0,  0,  0,  0,  0,  0,  0,  0,  0,  0,  0,  1,\n",
              "         1,  1,  1,  1,  1,  1,  1,  1,  1,  1,  1,  1,  1,  1,  1,  1,  1,  1,\n",
              "         1,  1,  1,  1,  1,  1,  1,  1,  1,  1,  1,  1,  1,  1,  1,  1,  1,  1,\n",
              "         1,  1,  1,  1,  1,  1,  1,  1,  1,  1,  1,  1,  1,  1,  1,  2,  2,  2,\n",
              "         2,  2,  2,  2,  2,  2,  2,  2,  2,  2,  2,  2,  2,  2,  2,  2,  2,  2,\n",
              "         2,  2,  2,  2,  2,  2,  2,  2,  2,  2,  2,  2,  2,  2,  2,  2,  2,  2,\n",
              "         2,  2,  2,  2,  2,  2,  2,  2,  2,  2,  2,  2,  3,  3,  3,  3,  3,  3,\n",
              "         3,  3,  3,  3,  3,  3,  3,  3,  3,  3,  3,  3,  3,  3,  3,  3,  3,  3,\n",
              "         3,  3,  3,  3,  3,  3,  3,  3,  3,  3,  3,  3,  3,  3,  3,  3,  3,  3,\n",
              "         3,  3,  3,  3,  3,  3,  3,  4,  4,  4,  4,  4,  4,  4,  4,  4,  4,  4,\n",
              "         4,  4,  4,  4,  4,  4,  4,  4,  4,  4,  4,  4,  4,  4,  4,  4,  4,  4,\n",
              "         4,  4,  4,  4,  4,  4,  4,  4,  4,  4,  4,  4,  4,  4,  4,  4,  4,  4,\n",
              "         4,  4,  4,  4,  4,  5,  5,  5,  5,  5,  5,  5,  5,  5,  5,  5,  5,  5,\n",
              "         5,  5,  5,  5,  5,  5,  5,  5,  5,  5,  5,  5,  5,  5,  5,  5,  5,  5,\n",
              "         5,  5,  5,  5,  5,  5,  5,  5,  5,  5,  5,  5,  5,  5,  5,  5,  5,  5,\n",
              "         5,  6,  6,  6,  6,  6,  6,  6,  6,  6,  6,  6,  6,  6,  6,  6,  6,  6,\n",
              "         6,  6,  6,  6,  6,  6,  6,  6,  6,  6,  6,  6,  6,  6,  6,  6,  6,  6,\n",
              "         6,  6,  6,  6,  6,  6,  6,  6,  6,  6,  6,  6,  6,  7,  7,  7,  7,  7,\n",
              "         7,  7,  7,  7,  7,  7,  7,  7,  7,  7,  7,  7,  7,  7,  7,  7,  7,  7,\n",
              "         7,  7,  7,  7,  7,  7,  7,  7,  7,  7,  7,  7,  7,  7,  7,  7,  7,  7,\n",
              "         7,  7,  7,  7,  7,  7,  7,  7,  7,  7,  7,  7,  7,  7,  7,  7,  7,  7,\n",
              "         7,  7,  8,  8,  8,  8,  8,  8,  8,  8,  8,  8,  8,  8,  8,  8,  8,  8,\n",
              "         8,  8,  8,  8,  8,  8,  8,  8,  8,  8,  8,  8,  8,  8,  8,  8,  8,  8,\n",
              "         8,  8,  8,  8,  8,  8,  8,  8,  8,  8,  8,  8,  8,  8,  8,  8,  8,  8,\n",
              "         8,  8,  9,  9,  9,  9,  9,  9,  9,  9,  9,  9,  9,  9,  9,  9,  9,  9,\n",
              "         9,  9,  9,  9,  9,  9,  9,  9,  9,  9,  9,  9,  9,  9,  9,  9,  9,  9,\n",
              "         9,  9,  9,  9,  9,  9,  9,  9,  9,  9,  9,  9,  9,  9,  9,  9,  9,  9,\n",
              "         9, 10, 10, 10, 10, 10, 10, 10, 10, 10, 10, 10, 10, 10, 10, 10, 10, 10,\n",
              "        10, 10, 10, 10, 10, 10, 10, 10, 10, 10, 10, 10, 10, 10, 10, 10, 10, 10,\n",
              "        10, 10, 10, 10, 10, 10, 10, 10, 10, 10, 10, 10, 10, 10, 10, 10, 10, 10,\n",
              "        11, 11, 11, 11, 11, 11, 11, 11, 11, 11, 11, 11, 11, 11, 11, 11, 11, 11,\n",
              "        11, 11, 11, 11, 11, 11, 11, 11, 11, 11, 11, 11, 11, 11, 11, 11, 11, 11,\n",
              "        11, 11, 11, 11, 11, 11, 11, 11, 11, 11, 11, 11, 11, 11, 11, 11, 11, 11,\n",
              "        12, 12, 12, 12, 12, 12, 12, 12, 12, 12, 12, 12, 12, 12, 12, 12, 12, 12,\n",
              "        12, 12, 12, 12, 12, 12, 12, 12, 12, 12, 12, 12, 12, 12, 12, 12, 12, 12,\n",
              "        12, 12, 12, 12, 12, 12, 12, 12, 12, 12, 12, 12, 12, 12, 12])"
            ]
          },
          "metadata": {},
          "execution_count": 35
        }
      ]
    },
    {
      "cell_type": "code",
      "source": [
        "Y = F.one_hot(class_to_index, num_classes= len(class_index))"
      ],
      "metadata": {
        "id": "jk8rik_1Iwq4"
      },
      "execution_count": null,
      "outputs": []
    },
    {
      "cell_type": "code",
      "source": [
        "Y_np = Y.numpy()"
      ],
      "metadata": {
        "id": "-eKuKZnfJMlt"
      },
      "execution_count": null,
      "outputs": []
    },
    {
      "cell_type": "code",
      "source": [
        "Y_np"
      ],
      "metadata": {
        "colab": {
          "base_uri": "https://localhost:8080/"
        },
        "id": "lomNLFGxJSXl",
        "outputId": "a6c2efec-3d60-4b23-aca8-68baec2cbca8"
      },
      "execution_count": null,
      "outputs": [
        {
          "output_type": "execute_result",
          "data": {
            "text/plain": [
              "array([[1, 0, 0, ..., 0, 0, 0],\n",
              "       [1, 0, 0, ..., 0, 0, 0],\n",
              "       [1, 0, 0, ..., 0, 0, 0],\n",
              "       ...,\n",
              "       [0, 0, 0, ..., 0, 0, 1],\n",
              "       [0, 0, 0, ..., 0, 0, 1],\n",
              "       [0, 0, 0, ..., 0, 0, 1]])"
            ]
          },
          "metadata": {},
          "execution_count": 39
        }
      ]
    },
    {
      "cell_type": "code",
      "source": [
        "import numpy as np\n",
        "np.save('Y.npy', Y_np)"
      ],
      "metadata": {
        "id": "pvwbE5oAJUZv"
      },
      "execution_count": null,
      "outputs": []
    },
    {
      "cell_type": "code",
      "source": [
        "os.getcwd()"
      ],
      "metadata": {
        "colab": {
          "base_uri": "https://localhost:8080/",
          "height": 35
        },
        "id": "qW1SLD-uJpgv",
        "outputId": "4576765d-566c-4e64-fcad-97c049946abd"
      },
      "execution_count": null,
      "outputs": [
        {
          "output_type": "execute_result",
          "data": {
            "text/plain": [
              "'/content/content/data'"
            ],
            "application/vnd.google.colaboratory.intrinsic+json": {
              "type": "string"
            }
          },
          "metadata": {},
          "execution_count": 42
        }
      ]
    },
    {
      "cell_type": "code",
      "source": [
        "f = open('label.txt', 'a')\n",
        "for l in labels:\n",
        "    f.write(l + '\\n')\n",
        "\n",
        "f.close()"
      ],
      "metadata": {
        "id": "6acKMuLPJ5qq"
      },
      "execution_count": null,
      "outputs": []
    },
    {
      "cell_type": "markdown",
      "source": [
        "Model testing"
      ],
      "metadata": {
        "id": "mdAbo9tLm8V-"
      }
    },
    {
      "cell_type": "code",
      "source": [
        "os.getcwd()"
      ],
      "metadata": {
        "colab": {
          "base_uri": "https://localhost:8080/",
          "height": 35
        },
        "id": "Aul5wNRTm5in",
        "outputId": "e949e86e-eab8-4e25-bcb1-7add1dc37770"
      },
      "execution_count": null,
      "outputs": [
        {
          "output_type": "execute_result",
          "data": {
            "text/plain": [
              "'/content/content/data/outputs'"
            ],
            "application/vnd.google.colaboratory.intrinsic+json": {
              "type": "string"
            }
          },
          "metadata": {},
          "execution_count": 6
        }
      ]
    },
    {
      "cell_type": "code",
      "source": [
        "import os\n",
        "import numpy as np\n",
        "import cv2\n",
        "from sklearn.model_selection import train_test_split\n",
        "\n",
        "def load_dataset(data_path, img_size=(64, 64), test_size=0.2, random_state=42):\n",
        "    all_folders = sorted([f for f in os.listdir(data_path) if os.path.isdir(os.path.join(data_path, f))])\n",
        "    Y = np.load(os.path.join(data_path, 'Y.npy'))\n",
        "\n",
        "    # Ensure labels match folder count\n",
        "    assert len(Y) == len(all_folders), \"Mismatch between number of folders and labels\"\n",
        "\n",
        "    # Split folder indices into train/test\n",
        "    indices = np.arange(len(all_folders))\n",
        "    train_idx, test_idx = train_test_split(indices, test_size=test_size, random_state=random_state, stratify=Y)\n",
        "\n",
        "    def load_split(indices):\n",
        "        X_split = []\n",
        "        Y_split = []\n",
        "        for i in indices:\n",
        "            folder = all_folders[i]\n",
        "            folder_path = os.path.join(data_path, folder)\n",
        "            frame_files = sorted(\n",
        "                [f for f in os.listdir(folder_path) if f.endswith('.png')],\n",
        "                key=lambda x: int(x.split('.')[0])\n",
        "            )\n",
        "            sequence = []\n",
        "            for file in frame_files:\n",
        "                img = cv2.imread(os.path.join(folder_path, file), cv2.IMREAD_GRAYSCALE)\n",
        "                img = cv2.resize(img, img_size)\n",
        "                img = img / 255.0\n",
        "                sequence.append(img)\n",
        "            X_split.append(np.array(sequence))\n",
        "            Y_split.append(Y[i])\n",
        "        return np.array(X_split)[..., np.newaxis], np.array(Y_split)\n",
        "\n",
        "    X_train, Y_train = load_split(train_idx)\n",
        "    X_test, Y_test = load_split(test_idx)\n",
        "\n",
        "    return X_train, X_test, Y_train, Y_test\n"
      ],
      "metadata": {
        "id": "1mwRr4qEm309"
      },
      "execution_count": null,
      "outputs": []
    },
    {
      "cell_type": "markdown",
      "source": [
        "## RNN + CNN Model"
      ],
      "metadata": {
        "id": "6TewLS1U_9wB"
      }
    },
    {
      "cell_type": "code",
      "source": [
        "from tensorflow.keras.models import Sequential\n",
        "from tensorflow.keras.layers import TimeDistributed, Conv2D, MaxPooling2D, Flatten, LSTM, Dense, Dropout\n",
        "import tensorflow as tf\n",
        "\n",
        "\n",
        "def build_rnn_model(input_shape, num_classes):\n",
        "    model = Sequential()\n",
        "    model.add(TimeDistributed(Conv2D(32, (3, 3), activation='relu'), input_shape=input_shape))\n",
        "    model.add(TimeDistributed(MaxPooling2D((2, 2))))\n",
        "    model.add(TimeDistributed(Flatten()))\n",
        "    model.add(LSTM(128))\n",
        "    model.add(Dropout(0.5))\n",
        "    model.add(Dense(num_classes, activation='softmax'))\n",
        "    return model\n"
      ],
      "metadata": {
        "id": "sdaKiRTMnKfu"
      },
      "execution_count": null,
      "outputs": []
    },
    {
      "cell_type": "code",
      "source": [
        "X_train, X_test, Y_train, Y_test = load_dataset(os.getcwd())"
      ],
      "metadata": {
        "id": "cbBzW4nvAJIx"
      },
      "execution_count": null,
      "outputs": []
    },
    {
      "cell_type": "code",
      "source": [
        "X_train.shape"
      ],
      "metadata": {
        "colab": {
          "base_uri": "https://localhost:8080/"
        },
        "id": "-tv6wv2pOWU6",
        "outputId": "7bc3a827-3881-4388-a9d6-be987229f251"
      },
      "execution_count": null,
      "outputs": [
        {
          "output_type": "execute_result",
          "data": {
            "text/plain": [
              "(544, 22, 64, 64, 1)"
            ]
          },
          "metadata": {},
          "execution_count": 31
        }
      ]
    },
    {
      "cell_type": "markdown",
      "source": [
        "Plot Helper"
      ],
      "metadata": {
        "id": "gQwINL-wLRJV"
      }
    },
    {
      "cell_type": "code",
      "source": [
        "import matplotlib.pyplot as plt\n",
        "\n",
        "def plot_training_history(history):\n",
        "    plt.figure(figsize=(12, 5))\n",
        "\n",
        "    # Plot loss\n",
        "    plt.subplot(1, 2, 1)\n",
        "    plt.plot(history.history['loss'], label='Train Loss')\n",
        "    plt.plot(history.history['val_loss'], label='Validation Loss')\n",
        "    plt.title(\"Loss over Epochs\")\n",
        "    plt.xlabel(\"Epoch\")\n",
        "    plt.ylabel(\"Loss\")\n",
        "    plt.legend()\n",
        "\n",
        "    # Plot accuracy\n",
        "    plt.subplot(1, 2, 2)\n",
        "    plt.plot(history.history['accuracy'], label='Train Accuracy')\n",
        "    plt.plot(history.history['val_accuracy'], label='Validation Accuracy')\n",
        "    plt.title(\"Accuracy over Epochs\")\n",
        "    plt.xlabel(\"Epoch\")\n",
        "    plt.ylabel(\"Accuracy\")\n",
        "    plt.legend()\n",
        "\n",
        "    plt.tight_layout()\n",
        "    plt.show()\n"
      ],
      "metadata": {
        "id": "6mOFK0aMLQb_"
      },
      "execution_count": null,
      "outputs": []
    },
    {
      "cell_type": "code",
      "source": [
        "\n",
        "\n",
        "model = build_rnn_model(X_train.shape[1:], Y_train.shape[1])\n",
        "model.compile(optimizer='adam', loss='categorical_crossentropy', metrics=['accuracy'])\n",
        "\n",
        "with tf.device('/GPU:0'):  # or '/CPU:0'\n",
        "    history = model.fit(X_train, Y_train, epochs=20, batch_size=8, validation_data=(X_test, Y_test))\n",
        "\n",
        "\n"
      ],
      "metadata": {
        "colab": {
          "base_uri": "https://localhost:8080/"
        },
        "id": "pfpXoBgqnUoi",
        "outputId": "850bea38-a57c-425c-b9fc-dc1bfe593341"
      },
      "execution_count": null,
      "outputs": [
        {
          "output_type": "stream",
          "name": "stderr",
          "text": [
            "/usr/local/lib/python3.11/dist-packages/keras/src/layers/core/wrapper.py:27: UserWarning: Do not pass an `input_shape`/`input_dim` argument to a layer. When using Sequential models, prefer using an `Input(shape)` object as the first layer in the model instead.\n",
            "  super().__init__(**kwargs)\n"
          ]
        },
        {
          "output_type": "stream",
          "name": "stdout",
          "text": [
            "Epoch 1/20\n",
            "\u001b[1m68/68\u001b[0m \u001b[32m━━━━━━━━━━━━━━━━━━━━\u001b[0m\u001b[37m\u001b[0m \u001b[1m8s\u001b[0m 63ms/step - accuracy: 0.0626 - loss: 2.8764 - val_accuracy: 0.0803 - val_loss: 2.5391\n",
            "Epoch 2/20\n",
            "\u001b[1m68/68\u001b[0m \u001b[32m━━━━━━━━━━━━━━━━━━━━\u001b[0m\u001b[37m\u001b[0m \u001b[1m3s\u001b[0m 49ms/step - accuracy: 0.1241 - loss: 2.5606 - val_accuracy: 0.3723 - val_loss: 2.4187\n",
            "Epoch 3/20\n",
            "\u001b[1m68/68\u001b[0m \u001b[32m━━━━━━━━━━━━━━━━━━━━\u001b[0m\u001b[37m\u001b[0m \u001b[1m3s\u001b[0m 49ms/step - accuracy: 0.2554 - loss: 2.3405 - val_accuracy: 0.4964 - val_loss: 1.8113\n",
            "Epoch 4/20\n",
            "\u001b[1m68/68\u001b[0m \u001b[32m━━━━━━━━━━━━━━━━━━━━\u001b[0m\u001b[37m\u001b[0m \u001b[1m3s\u001b[0m 49ms/step - accuracy: 0.4057 - loss: 1.7697 - val_accuracy: 0.7810 - val_loss: 0.7974\n",
            "Epoch 5/20\n",
            "\u001b[1m68/68\u001b[0m \u001b[32m━━━━━━━━━━━━━━━━━━━━\u001b[0m\u001b[37m\u001b[0m \u001b[1m3s\u001b[0m 49ms/step - accuracy: 0.7558 - loss: 0.8396 - val_accuracy: 0.8686 - val_loss: 0.4893\n",
            "Epoch 6/20\n",
            "\u001b[1m68/68\u001b[0m \u001b[32m━━━━━━━━━━━━━━━━━━━━\u001b[0m\u001b[37m\u001b[0m \u001b[1m3s\u001b[0m 49ms/step - accuracy: 0.8237 - loss: 0.5145 - val_accuracy: 0.9854 - val_loss: 0.1308\n",
            "Epoch 7/20\n",
            "\u001b[1m68/68\u001b[0m \u001b[32m━━━━━━━━━━━━━━━━━━━━\u001b[0m\u001b[37m\u001b[0m \u001b[1m3s\u001b[0m 49ms/step - accuracy: 0.9496 - loss: 0.2338 - val_accuracy: 0.9708 - val_loss: 0.0868\n",
            "Epoch 8/20\n",
            "\u001b[1m68/68\u001b[0m \u001b[32m━━━━━━━━━━━━━━━━━━━━\u001b[0m\u001b[37m\u001b[0m \u001b[1m3s\u001b[0m 49ms/step - accuracy: 0.9687 - loss: 0.1199 - val_accuracy: 0.9927 - val_loss: 0.0511\n",
            "Epoch 9/20\n",
            "\u001b[1m68/68\u001b[0m \u001b[32m━━━━━━━━━━━━━━━━━━━━\u001b[0m\u001b[37m\u001b[0m \u001b[1m3s\u001b[0m 49ms/step - accuracy: 0.9770 - loss: 0.1145 - val_accuracy: 0.9635 - val_loss: 0.0946\n",
            "Epoch 10/20\n",
            "\u001b[1m68/68\u001b[0m \u001b[32m━━━━━━━━━━━━━━━━━━━━\u001b[0m\u001b[37m\u001b[0m \u001b[1m3s\u001b[0m 49ms/step - accuracy: 0.9775 - loss: 0.1141 - val_accuracy: 1.0000 - val_loss: 0.0163\n",
            "Epoch 11/20\n",
            "\u001b[1m68/68\u001b[0m \u001b[32m━━━━━━━━━━━━━━━━━━━━\u001b[0m\u001b[37m\u001b[0m \u001b[1m3s\u001b[0m 49ms/step - accuracy: 1.0000 - loss: 0.0260 - val_accuracy: 1.0000 - val_loss: 0.0071\n",
            "Epoch 12/20\n",
            "\u001b[1m68/68\u001b[0m \u001b[32m━━━━━━━━━━━━━━━━━━━━\u001b[0m\u001b[37m\u001b[0m \u001b[1m3s\u001b[0m 49ms/step - accuracy: 1.0000 - loss: 0.0176 - val_accuracy: 1.0000 - val_loss: 0.0063\n",
            "Epoch 13/20\n",
            "\u001b[1m68/68\u001b[0m \u001b[32m━━━━━━━━━━━━━━━━━━━━\u001b[0m\u001b[37m\u001b[0m \u001b[1m3s\u001b[0m 49ms/step - accuracy: 1.0000 - loss: 0.0157 - val_accuracy: 1.0000 - val_loss: 0.0036\n",
            "Epoch 14/20\n",
            "\u001b[1m68/68\u001b[0m \u001b[32m━━━━━━━━━━━━━━━━━━━━\u001b[0m\u001b[37m\u001b[0m \u001b[1m3s\u001b[0m 49ms/step - accuracy: 1.0000 - loss: 0.0091 - val_accuracy: 1.0000 - val_loss: 0.0030\n",
            "Epoch 15/20\n",
            "\u001b[1m68/68\u001b[0m \u001b[32m━━━━━━━━━━━━━━━━━━━━\u001b[0m\u001b[37m\u001b[0m \u001b[1m3s\u001b[0m 49ms/step - accuracy: 1.0000 - loss: 0.0087 - val_accuracy: 1.0000 - val_loss: 0.0022\n",
            "Epoch 16/20\n",
            "\u001b[1m68/68\u001b[0m \u001b[32m━━━━━━━━━━━━━━━━━━━━\u001b[0m\u001b[37m\u001b[0m \u001b[1m3s\u001b[0m 49ms/step - accuracy: 1.0000 - loss: 0.0055 - val_accuracy: 1.0000 - val_loss: 0.0017\n",
            "Epoch 17/20\n",
            "\u001b[1m68/68\u001b[0m \u001b[32m━━━━━━━━━━━━━━━━━━━━\u001b[0m\u001b[37m\u001b[0m \u001b[1m3s\u001b[0m 49ms/step - accuracy: 1.0000 - loss: 0.0062 - val_accuracy: 1.0000 - val_loss: 0.0015\n",
            "Epoch 18/20\n",
            "\u001b[1m68/68\u001b[0m \u001b[32m━━━━━━━━━━━━━━━━━━━━\u001b[0m\u001b[37m\u001b[0m \u001b[1m3s\u001b[0m 49ms/step - accuracy: 1.0000 - loss: 0.0052 - val_accuracy: 1.0000 - val_loss: 0.0013\n",
            "Epoch 19/20\n",
            "\u001b[1m68/68\u001b[0m \u001b[32m━━━━━━━━━━━━━━━━━━━━\u001b[0m\u001b[37m\u001b[0m \u001b[1m3s\u001b[0m 49ms/step - accuracy: 1.0000 - loss: 0.0038 - val_accuracy: 1.0000 - val_loss: 0.0011\n",
            "Epoch 20/20\n",
            "\u001b[1m68/68\u001b[0m \u001b[32m━━━━━━━━━━━━━━━━━━━━\u001b[0m\u001b[37m\u001b[0m \u001b[1m3s\u001b[0m 49ms/step - accuracy: 1.0000 - loss: 0.0035 - val_accuracy: 1.0000 - val_loss: 9.8760e-04\n"
          ]
        }
      ]
    },
    {
      "cell_type": "code",
      "source": [
        "plot_training_history(history)"
      ],
      "metadata": {
        "colab": {
          "base_uri": "https://localhost:8080/",
          "height": 448
        },
        "id": "p3T8M_ELMY6e",
        "outputId": "aeb2c955-f941-4935-fdcd-40757af59f2f"
      },
      "execution_count": null,
      "outputs": [
        {
          "output_type": "display_data",
          "data": {
            "text/plain": [
              "<Figure size 1200x500 with 2 Axes>"
            ],
            "image/png": "[encoded data removed]"
          },
          "metadata": {}
        }
      ]
    },
    {
      "cell_type": "code",
      "source": [
        "model.save('simple_rnn.keras')"
      ],
      "metadata": {
        "id": "1dlGtOvt-qMb"
      },
      "execution_count": null,
      "outputs": []
    },
    {
      "cell_type": "code",
      "source": [
        "model.save_weights('simple_rnn.weights.h5')"
      ],
      "metadata": {
        "id": "m1J5-PH5-93H"
      },
      "execution_count": null,
      "outputs": []
    },
    {
      "cell_type": "markdown",
      "source": [
        "Model"
      ],
      "metadata": {
        "id": "2kxG5TOyH4Qq"
      }
    },
    {
      "cell_type": "code",
      "source": [
        "from tensorflow.keras.models import Model\n",
        "from tensorflow.keras.layers import Input, Conv3D, MaxPooling3D, TimeDistributed, Flatten, LSTM, Dense, Dropout, Reshape\n",
        "\n",
        "def build_3dcnn_lstm_model(input_shape, num_classes):\n",
        "    inputs = Input(shape=input_shape)  # (T, H, W, 1)\n",
        "\n",
        "    # 3D CNN block 1\n",
        "    x = Conv3D(32, kernel_size=(3, 3, 3), activation='relu', padding='same')(inputs)\n",
        "    x = MaxPooling3D(pool_size=(1, 2, 2))(x)\n",
        "\n",
        "    # 3D CNN block 2\n",
        "    x = Conv3D(64, kernel_size=(3, 3, 3), activation='relu', padding='same')(x)\n",
        "    x = MaxPooling3D(pool_size=(1, 2, 2))(x)\n",
        "\n",
        "    # 3D CNN block 3\n",
        "    x = Conv3D(128, kernel_size=(3, 3, 3), activation='relu', padding='same')(x)\n",
        "    x = MaxPooling3D(pool_size=(1, 2, 2))(x)\n",
        "\n",
        "    # Reshape: (T, features)\n",
        "    t, h, w, c = x.shape[1:]\n",
        "    x = Reshape((int(t), int(h * w * c)))(x)\n",
        "\n",
        "    # LSTM\n",
        "    x = LSTM(128)(x)\n",
        "    x = Dropout(0.5)(x)\n",
        "\n",
        "    # Output\n",
        "    outputs = Dense(num_classes, activation='softmax')(x)\n",
        "\n",
        "    model = Model(inputs, outputs)\n",
        "    return model"
      ],
      "metadata": {
        "id": "I13B9C5_AFPS"
      },
      "execution_count": null,
      "outputs": []
    },
    {
      "cell_type": "code",
      "source": [
        "model = build_3dcnn_lstm_model(X_train.shape[1:], Y_train.shape[1])\n",
        "model.compile(optimizer='adam', loss='categorical_crossentropy', metrics=['accuracy'])\n",
        "model.summary()"
      ],
      "metadata": {
        "colab": {
          "base_uri": "https://localhost:8080/",
          "height": 481
        },
        "id": "5HIuIJLwIj6l",
        "outputId": "dfb0b4cd-0882-4d97-a8a7-696c01a0c667"
      },
      "execution_count": null,
      "outputs": [
        {
          "output_type": "display_data",
          "data": {
            "text/plain": [
              "\u001b[1mModel: \"functional_7\"\u001b[0m\n"
            ],
            "text/html": [
              "<pre style=\"white-space:pre;overflow-x:auto;line-height:normal;font-family:Menlo,'DejaVu Sans Mono',consolas,'Courier New',monospace\"><span style=\"font-weight: bold\">Model: \"functional_7\"</span>\n",
              "</pre>\n"
            ]
          },
          "metadata": {}
        },
        {
          "output_type": "display_data",
          "data": {
            "text/plain": [
              "┏━━━━━━━━━━━━━━━━━━━━━━━━━━━━━━━━━━━━━━┳━━━━━━━━━━━━━━━━━━━━━━━━━━━━━┳━━━━━━━━━━━━━━━━━┓\n",
              "┃\u001b[1m \u001b[0m\u001b[1mLayer (type)                        \u001b[0m\u001b[1m \u001b[0m┃\u001b[1m \u001b[0m\u001b[1mOutput Shape               \u001b[0m\u001b[1m \u001b[0m┃\u001b[1m \u001b[0m\u001b[1m        Param #\u001b[0m\u001b[1m \u001b[0m┃\n",
              "┡━━━━━━━━━━━━━━━━━━━━━━━━━━━━━━━━━━━━━━╇━━━━━━━━━━━━━━━━━━━━━━━━━━━━━╇━━━━━━━━━━━━━━━━━┩\n",
              "│ input_layer_2 (\u001b[38;5;33mInputLayer\u001b[0m)           │ (\u001b[38;5;45mNone\u001b[0m, \u001b[38;5;34m22\u001b[0m, \u001b[38;5;34m64\u001b[0m, \u001b[38;5;34m64\u001b[0m, \u001b[38;5;34m1\u001b[0m)       │               \u001b[38;5;34m0\u001b[0m │\n",
              "├──────────────────────────────────────┼─────────────────────────────┼─────────────────┤\n",
              "│ conv3d_3 (\u001b[38;5;33mConv3D\u001b[0m)                    │ (\u001b[38;5;45mNone\u001b[0m, \u001b[38;5;34m22\u001b[0m, \u001b[38;5;34m64\u001b[0m, \u001b[38;5;34m64\u001b[0m, \u001b[38;5;34m32\u001b[0m)      │             \u001b[38;5;34m896\u001b[0m │\n",
              "├──────────────────────────────────────┼─────────────────────────────┼─────────────────┤\n",
              "│ max_pooling3d_3 (\u001b[38;5;33mMaxPooling3D\u001b[0m)       │ (\u001b[38;5;45mNone\u001b[0m, \u001b[38;5;34m22\u001b[0m, \u001b[38;5;34m32\u001b[0m, \u001b[38;5;34m32\u001b[0m, \u001b[38;5;34m32\u001b[0m)      │               \u001b[38;5;34m0\u001b[0m │\n",
              "├──────────────────────────────────────┼─────────────────────────────┼─────────────────┤\n",
              "│ conv3d_4 (\u001b[38;5;33mConv3D\u001b[0m)                    │ (\u001b[38;5;45mNone\u001b[0m, \u001b[38;5;34m22\u001b[0m, \u001b[38;5;34m32\u001b[0m, \u001b[38;5;34m32\u001b[0m, \u001b[38;5;34m64\u001b[0m)      │          \u001b[38;5;34m55,360\u001b[0m │\n",
              "├──────────────────────────────────────┼─────────────────────────────┼─────────────────┤\n",
              "│ max_pooling3d_4 (\u001b[38;5;33mMaxPooling3D\u001b[0m)       │ (\u001b[38;5;45mNone\u001b[0m, \u001b[38;5;34m22\u001b[0m, \u001b[38;5;34m16\u001b[0m, \u001b[38;5;34m16\u001b[0m, \u001b[38;5;34m64\u001b[0m)      │               \u001b[38;5;34m0\u001b[0m │\n",
              "├──────────────────────────────────────┼─────────────────────────────┼─────────────────┤\n",
              "│ conv3d_5 (\u001b[38;5;33mConv3D\u001b[0m)                    │ (\u001b[38;5;45mNone\u001b[0m, \u001b[38;5;34m22\u001b[0m, \u001b[38;5;34m16\u001b[0m, \u001b[38;5;34m16\u001b[0m, \u001b[38;5;34m128\u001b[0m)     │         \u001b[38;5;34m221,312\u001b[0m │\n",
              "├──────────────────────────────────────┼─────────────────────────────┼─────────────────┤\n",
              "│ max_pooling3d_5 (\u001b[38;5;33mMaxPooling3D\u001b[0m)       │ (\u001b[38;5;45mNone\u001b[0m, \u001b[38;5;34m22\u001b[0m, \u001b[38;5;34m8\u001b[0m, \u001b[38;5;34m8\u001b[0m, \u001b[38;5;34m128\u001b[0m)       │               \u001b[38;5;34m0\u001b[0m │\n",
              "├──────────────────────────────────────┼─────────────────────────────┼─────────────────┤\n",
              "│ reshape_1 (\u001b[38;5;33mReshape\u001b[0m)                  │ (\u001b[38;5;45mNone\u001b[0m, \u001b[38;5;34m22\u001b[0m, \u001b[38;5;34m8192\u001b[0m)            │               \u001b[38;5;34m0\u001b[0m │\n",
              "├──────────────────────────────────────┼─────────────────────────────┼─────────────────┤\n",
              "│ lstm_2 (\u001b[38;5;33mLSTM\u001b[0m)                        │ (\u001b[38;5;45mNone\u001b[0m, \u001b[38;5;34m128\u001b[0m)                 │       \u001b[38;5;34m4,260,352\u001b[0m │\n",
              "├──────────────────────────────────────┼─────────────────────────────┼─────────────────┤\n",
              "│ dropout_2 (\u001b[38;5;33mDropout\u001b[0m)                  │ (\u001b[38;5;45mNone\u001b[0m, \u001b[38;5;34m128\u001b[0m)                 │               \u001b[38;5;34m0\u001b[0m │\n",
              "├──────────────────────────────────────┼─────────────────────────────┼─────────────────┤\n",
              "│ dense_2 (\u001b[38;5;33mDense\u001b[0m)                      │ (\u001b[38;5;45mNone\u001b[0m, \u001b[38;5;34m13\u001b[0m)                  │           \u001b[38;5;34m1,677\u001b[0m │\n",
              "└──────────────────────────────────────┴─────────────────────────────┴─────────────────┘\n"
            ],
            "text/html": [
              "<pre style=\"white-space:pre;overflow-x:auto;line-height:normal;font-family:Menlo,'DejaVu Sans Mono',consolas,'Courier New',monospace\">┏━━━━━━━━━━━━━━━━━━━━━━━━━━━━━━━━━━━━━━┳━━━━━━━━━━━━━━━━━━━━━━━━━━━━━┳━━━━━━━━━━━━━━━━━┓\n",
              "┃<span style=\"font-weight: bold\"> Layer (type)                         </span>┃<span style=\"font-weight: bold\"> Output Shape                </span>┃<span style=\"font-weight: bold\">         Param # </span>┃\n",
              "┡━━━━━━━━━━━━━━━━━━━━━━━━━━━━━━━━━━━━━━╇━━━━━━━━━━━━━━━━━━━━━━━━━━━━━╇━━━━━━━━━━━━━━━━━┩\n",
              "│ input_layer_2 (<span style=\"color: #0087ff; text-decoration-color: #0087ff\">InputLayer</span>)           │ (<span style=\"color: #00d7ff; text-decoration-color: #00d7ff\">None</span>, <span style=\"color: #00af00; text-decoration-color: #00af00\">22</span>, <span style=\"color: #00af00; text-decoration-color: #00af00\">64</span>, <span style=\"color: #00af00; text-decoration-color: #00af00\">64</span>, <span style=\"color: #00af00; text-decoration-color: #00af00\">1</span>)       │               <span style=\"color: #00af00; text-decoration-color: #00af00\">0</span> │\n",
              "├──────────────────────────────────────┼─────────────────────────────┼─────────────────┤\n",
              "│ conv3d_3 (<span style=\"color: #0087ff; text-decoration-color: #0087ff\">Conv3D</span>)                    │ (<span style=\"color: #00d7ff; text-decoration-color: #00d7ff\">None</span>, <span style=\"color: #00af00; text-decoration-color: #00af00\">22</span>, <span style=\"color: #00af00; text-decoration-color: #00af00\">64</span>, <span style=\"color: #00af00; text-decoration-color: #00af00\">64</span>, <span style=\"color: #00af00; text-decoration-color: #00af00\">32</span>)      │             <span style=\"color: #00af00; text-decoration-color: #00af00\">896</span> │\n",
              "├──────────────────────────────────────┼─────────────────────────────┼─────────────────┤\n",
              "│ max_pooling3d_3 (<span style=\"color: #0087ff; text-decoration-color: #0087ff\">MaxPooling3D</span>)       │ (<span style=\"color: #00d7ff; text-decoration-color: #00d7ff\">None</span>, <span style=\"color: #00af00; text-decoration-color: #00af00\">22</span>, <span style=\"color: #00af00; text-decoration-color: #00af00\">32</span>, <span style=\"color: #00af00; text-decoration-color: #00af00\">32</span>, <span style=\"color: #00af00; text-decoration-color: #00af00\">32</span>)      │               <span style=\"color: #00af00; text-decoration-color: #00af00\">0</span> │\n",
              "├──────────────────────────────────────┼─────────────────────────────┼─────────────────┤\n",
              "│ conv3d_4 (<span style=\"color: #0087ff; text-decoration-color: #0087ff\">Conv3D</span>)                    │ (<span style=\"color: #00d7ff; text-decoration-color: #00d7ff\">None</span>, <span style=\"color: #00af00; text-decoration-color: #00af00\">22</span>, <span style=\"color: #00af00; text-decoration-color: #00af00\">32</span>, <span style=\"color: #00af00; text-decoration-color: #00af00\">32</span>, <span style=\"color: #00af00; text-decoration-color: #00af00\">64</span>)      │          <span style=\"color: #00af00; text-decoration-color: #00af00\">55,360</span> │\n",
              "├──────────────────────────────────────┼─────────────────────────────┼─────────────────┤\n",
              "│ max_pooling3d_4 (<span style=\"color: #0087ff; text-decoration-color: #0087ff\">MaxPooling3D</span>)       │ (<span style=\"color: #00d7ff; text-decoration-color: #00d7ff\">None</span>, <span style=\"color: #00af00; text-decoration-color: #00af00\">22</span>, <span style=\"color: #00af00; text-decoration-color: #00af00\">16</span>, <span style=\"color: #00af00; text-decoration-color: #00af00\">16</span>, <span style=\"color: #00af00; text-decoration-color: #00af00\">64</span>)      │               <span style=\"color: #00af00; text-decoration-color: #00af00\">0</span> │\n",
              "├──────────────────────────────────────┼─────────────────────────────┼─────────────────┤\n",
              "│ conv3d_5 (<span style=\"color: #0087ff; text-decoration-color: #0087ff\">Conv3D</span>)                    │ (<span style=\"color: #00d7ff; text-decoration-color: #00d7ff\">None</span>, <span style=\"color: #00af00; text-decoration-color: #00af00\">22</span>, <span style=\"color: #00af00; text-decoration-color: #00af00\">16</span>, <span style=\"color: #00af00; text-decoration-color: #00af00\">16</span>, <span style=\"color: #00af00; text-decoration-color: #00af00\">128</span>)     │         <span style=\"color: #00af00; text-decoration-color: #00af00\">221,312</span> │\n",
              "├──────────────────────────────────────┼─────────────────────────────┼─────────────────┤\n",
              "│ max_pooling3d_5 (<span style=\"color: #0087ff; text-decoration-color: #0087ff\">MaxPooling3D</span>)       │ (<span style=\"color: #00d7ff; text-decoration-color: #00d7ff\">None</span>, <span style=\"color: #00af00; text-decoration-color: #00af00\">22</span>, <span style=\"color: #00af00; text-decoration-color: #00af00\">8</span>, <span style=\"color: #00af00; text-decoration-color: #00af00\">8</span>, <span style=\"color: #00af00; text-decoration-color: #00af00\">128</span>)       │               <span style=\"color: #00af00; text-decoration-color: #00af00\">0</span> │\n",
              "├──────────────────────────────────────┼─────────────────────────────┼─────────────────┤\n",
              "│ reshape_1 (<span style=\"color: #0087ff; text-decoration-color: #0087ff\">Reshape</span>)                  │ (<span style=\"color: #00d7ff; text-decoration-color: #00d7ff\">None</span>, <span style=\"color: #00af00; text-decoration-color: #00af00\">22</span>, <span style=\"color: #00af00; text-decoration-color: #00af00\">8192</span>)            │               <span style=\"color: #00af00; text-decoration-color: #00af00\">0</span> │\n",
              "├──────────────────────────────────────┼─────────────────────────────┼─────────────────┤\n",
              "│ lstm_2 (<span style=\"color: #0087ff; text-decoration-color: #0087ff\">LSTM</span>)                        │ (<span style=\"color: #00d7ff; text-decoration-color: #00d7ff\">None</span>, <span style=\"color: #00af00; text-decoration-color: #00af00\">128</span>)                 │       <span style=\"color: #00af00; text-decoration-color: #00af00\">4,260,352</span> │\n",
              "├──────────────────────────────────────┼─────────────────────────────┼─────────────────┤\n",
              "│ dropout_2 (<span style=\"color: #0087ff; text-decoration-color: #0087ff\">Dropout</span>)                  │ (<span style=\"color: #00d7ff; text-decoration-color: #00d7ff\">None</span>, <span style=\"color: #00af00; text-decoration-color: #00af00\">128</span>)                 │               <span style=\"color: #00af00; text-decoration-color: #00af00\">0</span> │\n",
              "├──────────────────────────────────────┼─────────────────────────────┼─────────────────┤\n",
              "│ dense_2 (<span style=\"color: #0087ff; text-decoration-color: #0087ff\">Dense</span>)                      │ (<span style=\"color: #00d7ff; text-decoration-color: #00d7ff\">None</span>, <span style=\"color: #00af00; text-decoration-color: #00af00\">13</span>)                  │           <span style=\"color: #00af00; text-decoration-color: #00af00\">1,677</span> │\n",
              "└──────────────────────────────────────┴─────────────────────────────┴─────────────────┘\n",
              "</pre>\n"
            ]
          },
          "metadata": {}
        },
        {
          "output_type": "display_data",
          "data": {
            "text/plain": [
              "\u001b[1m Total params: \u001b[0m\u001b[38;5;34m4,539,597\u001b[0m (17.32 MB)\n"
            ],
            "text/html": [
              "<pre style=\"white-space:pre;overflow-x:auto;line-height:normal;font-family:Menlo,'DejaVu Sans Mono',consolas,'Courier New',monospace\"><span style=\"font-weight: bold\"> Total params: </span><span style=\"color: #00af00; text-decoration-color: #00af00\">4,539,597</span> (17.32 MB)\n",
              "</pre>\n"
            ]
          },
          "metadata": {}
        },
        {
          "output_type": "display_data",
          "data": {
            "text/plain": [
              "\u001b[1m Trainable params: \u001b[0m\u001b[38;5;34m4,539,597\u001b[0m (17.32 MB)\n"
            ],
            "text/html": [
              "<pre style=\"white-space:pre;overflow-x:auto;line-height:normal;font-family:Menlo,'DejaVu Sans Mono',consolas,'Courier New',monospace\"><span style=\"font-weight: bold\"> Trainable params: </span><span style=\"color: #00af00; text-decoration-color: #00af00\">4,539,597</span> (17.32 MB)\n",
              "</pre>\n"
            ]
          },
          "metadata": {}
        },
        {
          "output_type": "display_data",
          "data": {
            "text/plain": [
              "\u001b[1m Non-trainable params: \u001b[0m\u001b[38;5;34m0\u001b[0m (0.00 B)\n"
            ],
            "text/html": [
              "<pre style=\"white-space:pre;overflow-x:auto;line-height:normal;font-family:Menlo,'DejaVu Sans Mono',consolas,'Courier New',monospace\"><span style=\"font-weight: bold\"> Non-trainable params: </span><span style=\"color: #00af00; text-decoration-color: #00af00\">0</span> (0.00 B)\n",
              "</pre>\n"
            ]
          },
          "metadata": {}
        }
      ]
    },
    {
      "cell_type": "code",
      "source": [
        "import tensorflow as tf\n",
        "\n",
        "with tf.device('/GPU:0'):  # or '/CPU:0'\n",
        "    history = model.fit(X_train, Y_train, epochs=20, batch_size=8, validation_data=(X_test, Y_test))"
      ],
      "metadata": {
        "colab": {
          "base_uri": "https://localhost:8080/"
        },
        "id": "JBCBnnKjIu8g",
        "outputId": "7ba66946-d309-49fb-db22-8d4f11e68dc7"
      },
      "execution_count": null,
      "outputs": [
        {
          "output_type": "stream",
          "name": "stdout",
          "text": [
            "Epoch 1/20\n",
            "\u001b[1m68/68\u001b[0m \u001b[32m━━━━━━━━━━━━━━━━━━━━\u001b[0m\u001b[37m\u001b[0m \u001b[1m5s\u001b[0m 41ms/step - accuracy: 0.0677 - loss: 2.6067 - val_accuracy: 0.1533 - val_loss: 2.5441\n",
            "Epoch 2/20\n",
            "\u001b[1m68/68\u001b[0m \u001b[32m━━━━━━━━━━━━━━━━━━━━\u001b[0m\u001b[37m\u001b[0m \u001b[1m2s\u001b[0m 35ms/step - accuracy: 0.1542 - loss: 2.4213 - val_accuracy: 0.5328 - val_loss: 1.4055\n",
            "Epoch 3/20\n",
            "\u001b[1m68/68\u001b[0m \u001b[32m━━━━━━━━━━━━━━━━━━━━\u001b[0m\u001b[37m\u001b[0m \u001b[1m2s\u001b[0m 35ms/step - accuracy: 0.6129 - loss: 1.1725 - val_accuracy: 0.8102 - val_loss: 0.4924\n",
            "Epoch 4/20\n",
            "\u001b[1m68/68\u001b[0m \u001b[32m━━━━━━━━━━━━━━━━━━━━\u001b[0m\u001b[37m\u001b[0m \u001b[1m2s\u001b[0m 35ms/step - accuracy: 0.8346 - loss: 0.5470 - val_accuracy: 0.9489 - val_loss: 0.2312\n",
            "Epoch 5/20\n",
            "\u001b[1m68/68\u001b[0m \u001b[32m━━━━━━━━━━━━━━━━━━━━\u001b[0m\u001b[37m\u001b[0m \u001b[1m2s\u001b[0m 35ms/step - accuracy: 0.9078 - loss: 0.2912 - val_accuracy: 0.9416 - val_loss: 0.1701\n",
            "Epoch 6/20\n",
            "\u001b[1m68/68\u001b[0m \u001b[32m━━━━━━━━━━━━━━━━━━━━\u001b[0m\u001b[37m\u001b[0m \u001b[1m2s\u001b[0m 35ms/step - accuracy: 0.9646 - loss: 0.1492 - val_accuracy: 0.9854 - val_loss: 0.0764\n",
            "Epoch 7/20\n",
            "\u001b[1m68/68\u001b[0m \u001b[32m━━━━━━━━━━━━━━━━━━━━\u001b[0m\u001b[37m\u001b[0m \u001b[1m2s\u001b[0m 35ms/step - accuracy: 0.9806 - loss: 0.0992 - val_accuracy: 0.9854 - val_loss: 0.0539\n",
            "Epoch 8/20\n",
            "\u001b[1m68/68\u001b[0m \u001b[32m━━━━━━━━━━━━━━━━━━━━\u001b[0m\u001b[37m\u001b[0m \u001b[1m2s\u001b[0m 35ms/step - accuracy: 0.9943 - loss: 0.0518 - val_accuracy: 0.9927 - val_loss: 0.0639\n",
            "Epoch 9/20\n",
            "\u001b[1m68/68\u001b[0m \u001b[32m━━━━━━━━━━━━━━━━━━━━\u001b[0m\u001b[37m\u001b[0m \u001b[1m2s\u001b[0m 35ms/step - accuracy: 0.9970 - loss: 0.0356 - val_accuracy: 0.9635 - val_loss: 0.1159\n",
            "Epoch 10/20\n",
            "\u001b[1m68/68\u001b[0m \u001b[32m━━━━━━━━━━━━━━━━━━━━\u001b[0m\u001b[37m\u001b[0m \u001b[1m2s\u001b[0m 35ms/step - accuracy: 0.9740 - loss: 0.0675 - val_accuracy: 0.9854 - val_loss: 0.0672\n",
            "Epoch 11/20\n",
            "\u001b[1m68/68\u001b[0m \u001b[32m━━━━━━━━━━━━━━━━━━━━\u001b[0m\u001b[37m\u001b[0m \u001b[1m2s\u001b[0m 35ms/step - accuracy: 0.9740 - loss: 0.0827 - val_accuracy: 0.9781 - val_loss: 0.0629\n",
            "Epoch 12/20\n",
            "\u001b[1m68/68\u001b[0m \u001b[32m━━━━━━━━━━━━━━━━━━━━\u001b[0m\u001b[37m\u001b[0m \u001b[1m2s\u001b[0m 35ms/step - accuracy: 0.9930 - loss: 0.0396 - val_accuracy: 0.9927 - val_loss: 0.0342\n",
            "Epoch 13/20\n",
            "\u001b[1m68/68\u001b[0m \u001b[32m━━━━━━━━━━━━━━━━━━━━\u001b[0m\u001b[37m\u001b[0m \u001b[1m2s\u001b[0m 35ms/step - accuracy: 1.0000 - loss: 0.0076 - val_accuracy: 0.9927 - val_loss: 0.0414\n",
            "Epoch 14/20\n",
            "\u001b[1m68/68\u001b[0m \u001b[32m━━━━━━━━━━━━━━━━━━━━\u001b[0m\u001b[37m\u001b[0m \u001b[1m2s\u001b[0m 35ms/step - accuracy: 1.0000 - loss: 0.0041 - val_accuracy: 0.9927 - val_loss: 0.0364\n",
            "Epoch 15/20\n",
            "\u001b[1m68/68\u001b[0m \u001b[32m━━━━━━━━━━━━━━━━━━━━\u001b[0m\u001b[37m\u001b[0m \u001b[1m2s\u001b[0m 35ms/step - accuracy: 1.0000 - loss: 0.0032 - val_accuracy: 0.9927 - val_loss: 0.0361\n",
            "Epoch 16/20\n",
            "\u001b[1m68/68\u001b[0m \u001b[32m━━━━━━━━━━━━━━━━━━━━\u001b[0m\u001b[37m\u001b[0m \u001b[1m2s\u001b[0m 35ms/step - accuracy: 1.0000 - loss: 0.0037 - val_accuracy: 0.9927 - val_loss: 0.0342\n",
            "Epoch 17/20\n",
            "\u001b[1m68/68\u001b[0m \u001b[32m━━━━━━━━━━━━━━━━━━━━\u001b[0m\u001b[37m\u001b[0m \u001b[1m2s\u001b[0m 35ms/step - accuracy: 1.0000 - loss: 0.0015 - val_accuracy: 0.9927 - val_loss: 0.0364\n",
            "Epoch 18/20\n",
            "\u001b[1m68/68\u001b[0m \u001b[32m━━━━━━━━━━━━━━━━━━━━\u001b[0m\u001b[37m\u001b[0m \u001b[1m2s\u001b[0m 35ms/step - accuracy: 1.0000 - loss: 0.0019 - val_accuracy: 0.9927 - val_loss: 0.0401\n",
            "Epoch 19/20\n",
            "\u001b[1m68/68\u001b[0m \u001b[32m━━━━━━━━━━━━━━━━━━━━\u001b[0m\u001b[37m\u001b[0m \u001b[1m2s\u001b[0m 35ms/step - accuracy: 1.0000 - loss: 0.0015 - val_accuracy: 0.9927 - val_loss: 0.0438\n",
            "Epoch 20/20\n",
            "\u001b[1m68/68\u001b[0m \u001b[32m━━━━━━━━━━━━━━━━━━━━\u001b[0m\u001b[37m\u001b[0m \u001b[1m2s\u001b[0m 35ms/step - accuracy: 1.0000 - loss: 0.0013 - val_accuracy: 0.9927 - val_loss: 0.0426\n"
          ]
        }
      ]
    },
    {
      "cell_type": "code",
      "source": [
        "plot_training_history(history)"
      ],
      "metadata": {
        "colab": {
          "base_uri": "https://localhost:8080/",
          "height": 448
        },
        "id": "P7tIiAu_NNXz",
        "outputId": "a7a2113f-4e96-4574-e1a1-44c5b26b75b1"
      },
      "execution_count": null,
      "outputs": [
        {
          "output_type": "display_data",
          "data": {
            "text/plain": [
              "<Figure size 1200x500 with 2 Axes>"
            ],
            "image/png": "[encoded data removed]"
          },
          "metadata": {}
        }
      ]
    }
  ]
}